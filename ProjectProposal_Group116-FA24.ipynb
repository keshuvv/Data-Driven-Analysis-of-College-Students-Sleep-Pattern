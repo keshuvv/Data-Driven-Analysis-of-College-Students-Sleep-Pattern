{
 "cells": [
  {
   "cell_type": "markdown",
   "metadata": {},
   "source": [
    "# COGS 108 - Project Proposal"
   ]
  },
  {
   "cell_type": "markdown",
   "metadata": {},
   "source": [
    "# Names\n",
    "\n",
    "- Benjamin Zhang-Li\n",
    "- Ilia Aballa\n",
    "- Keshav Gupta\n",
    "- Nura Nejad\n"
   ]
  },
  {
   "cell_type": "markdown",
   "metadata": {},
   "source": [
    "# Research Question"
   ]
  },
  {
   "cell_type": "markdown",
   "metadata": {},
   "source": [
    "Which measurable sleep and lifestyle factors are most strongly associated with healthy sleep schedules among college students in the US?"
   ]
  },
  {
   "cell_type": "markdown",
   "metadata": {},
   "source": [
    "## Background and Prior Work"
   ]
  },
  {
   "cell_type": "markdown",
   "metadata": {},
   "source": [
    "Maintaining a healthy sleep schedule is essential for college students in the U.S, as it directly impacts their academic performance, mental health, and overall well-being. However, research from the Centers for Disease Control and Prevention (CDC) shows that around 75% of college students report experiencing sleep disturbances or poor sleep quality, largely due to demanding schedules and the challenges of balancing coursework, social activities, and work commitments.<a name=\\\"cite_ref-1\\\"></a>[<sup>1</sup>](#cite_note-1) Lifestyle factors such as caffeine intake, dietary habits, screen time, alcohol and substance use, stress levels, and study habits all play a huge role in shaping sleep patterns. For instance, the CDC notes that inconsistent sleep patterns, common among college students, contribute to issues like “daytime sleepiness,” which can impair focus and academic success.<a name=\\\"cite_ref-1\\\"></a>[<sup>1</sup>](#cite_note-1)\n",
    "\n",
    "Our project seeks to understand which of these lifestyle habits most strongly affect sleep consistency and quality, focusing on students with demanding college schedules. To do so, we will examine measurable sleep factors like total sleep hours, consistency in average bedtime and wake time, and overall sleep quality. By analyzing these metrics, we aim to pinpoint lifestyle behaviors that correlate with healthier sleep patterns among college students in the U.S., hoping to provide practical insights into developing better sleep routines.\n",
    "\n",
    "Previous research has highlighted key lifestyle and mental health factors that impact sleep consistency among U.S. college students. For instance, one study found that habits like caffeine use, substance use, and high stress are strongly associated with sleep issues, showing how these daily choices affect students’ ability to keep a regular sleep schedule.<a name=\\\"cite_ref-2\\\"></a>[<sup>2</sup>](#cite_note-2) Similarly, research on sleep hygiene—such as managing screen time before bed, limiting caffeine intake, and moderation of alcohol use—demonstrates how these habits impact sleep quality, often making it difficult for students to maintain a steady routine.<a name=\\\"cite_ref-3\\\"></a>[<sup>3</sup>](#cite_note3) Another recent study on college students' sleep trends highlights that irregular schedules and high-stress levels are key contributors to poor sleep quality, emphasizing the importance of exploring how lifestyle and mental health impact sleep patterns.<a name=\\\"cite_ref-3\\\"></a>[<sup>3</sup>](#cite_note3)\n",
    "\n",
    "---\n",
    "\n",
    "1. <a name=\\\"cite_note-1\\\"></a> [^](#cite_ref-1) Mbous, Y.P.V., Nili, M., Mohamed, R., & Dwibedi, N. (2022). *Psychosocial Correlates of Insomnia Among College Students*. Preventing Chronic Disease. [Link to study](https://www.cdc.gov/pcd/issues/2022/22_0060.htm)\n",
    "2. <a name=\\\"cite_note-2\\\"></a> [^](#cite_ref-2) Emerson, J. (2024). *The Importance of Sleep for College Students*. University of South Florida. [Link to article](https://admissions.usf.edu/blog/the-importance-of-sleep-for-college-students)\n",
    "3. <a name=\\\"cite_note-3\\\"></a> [^](#cite_ref-3) Zhou, J., Qu, J., Ji, S., et al. (2022). *Research trends in college students' sleep from 2012 to 2021: A bibliometric analysis*. Front Psychiatry. [Link to study](https://pmc.ncbi.nlm.nih.gov/articles/PMC9530190/)\n"
   ]
  },
  {
   "cell_type": "markdown",
   "metadata": {},
   "source": [
    "# Hypothesis\n"
   ]
  },
  {
   "cell_type": "markdown",
   "metadata": {},
   "source": [
    "We hypothesize that, among U.S. college students aged 18-25, factors such as consistent bedtime and wake time, average duration of sleep, lower caffeine intake, limited screen time, and reduced substance use will correlate strongly with maintaining a “healthy” sleep schedule. We predict these variables will have a significant positive impact on sleep quality due to their direct influence on sleep duration and overall sleep hygiene. "
   ]
  },
  {
   "cell_type": "markdown",
   "metadata": {},
   "source": [
    "# Data"
   ]
  },
  {
   "cell_type": "markdown",
   "metadata": {},
   "source": [
    "## 1. Ideal Dataset:\n",
    "\n",
    "The ideal dataset for our study would contain comprehensive data on college students aged 18-25 in the U.S., capturing sleep and lifestyle variables crucial for understanding patterns linked to sleep health. Specifically, we would require data on the following variables:\n",
    "\n",
    "- **Sleep factors**: duration, quality, average bedtime and waketime (weekday vs. weekend)\n",
    "- **Substance use**: caffeine intake, alcohol intake, marijuana, and nicotine intake\n",
    "- **Lifestyle factors**: screen time, stress levels, physical activity\n",
    "- **Demographic data**: age, gender, university year\n",
    "\n",
    "These datasets would ideally have properly named columns, containing data from college students ages 18-25 since that is the demographic we would like to understand better, with at least 6,000 unique entries once cleaning is complete. The data should also be from recent years (post-2020), since data from pre-pandemic may not be as accurate as post-pandemic data.\n",
    "\n",
    "---\n",
    "\n",
    "## 2. Potential Datasets:\n",
    "\n",
    "### Mental Health & Technology Usage Dataset\n",
    "- **Columns**: age, gender, screen time, self-reported mental health score from scale of 1-10, self-reported stress score from 1-10, self-reported sleep quality score from 1-10, gaming hours, physical activity hours, support system access, work environment impact, online support usage\n",
    "\n",
    "### Student Sleep Patterns (with factors)\n",
    "- **Columns**: student ID, age, gender, university year, sleep duration, study hours, screen time, caffeine intake, physical activity, sleep quality, weekday sleep start, weekend sleep start, weekday sleep end, weekend sleep end\n",
    "\n",
    "### Student Stress Factors: A Comprehensive Analysis\n",
    "- **Derived from**: \"nationwide survey\" but does not include age nor gender\n",
    "- **Columns**: anxiety level, self-esteem, mental health history, depression, headache, blood pressure, sleep quality, breathing problem, noise level, living conditions, safety, basic needs, academic performance, study load, teacher-student relationship, future career concerns, social support, peer pressure, extracurricular activities, bullying, stress level\n",
    "\n",
    "### Student Performance (Multiple Linear Regression)\n",
    "- **Does not include**: age nor gender\n",
    "- **Columns**: hours studied, previous scores, extracurricular activity participation, sleep hours, sample question papers practiced\n",
    "\n",
    "This data is in a different format/style:\n",
    "\n",
    "### August 2021-August 2023 Questionnaire Data - Continuous NHANES\n",
    "- **Sleep Disorders Dataset from the NHANES Survey**\n",
    "  - Includes participants aged 16 and older\n",
    "  - We are unfamiliar with the setup of this dataset but it contains the following codes:\n",
    "    - usual sleep time on weekdays or workdays\n",
    "    - usual wake time on weekdays or workdays\n",
    "    - sleep hours weekdays or workdays\n",
    "    - usual sleep time on weekends\n",
    "    - usual wake time on weekends\n",
    "    - sleep hours on weekends"
   ]
  },
  {
   "cell_type": "markdown",
   "metadata": {},
   "source": [
    "# Ethics & Privacy"
   ]
  },
  {
   "cell_type": "markdown",
   "metadata": {},
   "source": [
    "In our project, it’s possible that our datasets exclude/do not properly label students who have underlying health problems such as insomnia, mental health issues, and chronic illnesses. These populations could be underrepresented, or their sleep data entries may be treated as outliers and were removed from the datasets before they were published for our team to access. We are also unsure where exactly our data comes from since there is no identifying information on it, meaning our data may not actually be spread across the entire US. \n",
    "\n",
    "Additionally, student sleep and life habits may have been formed before the student arrived at university. It is possible that a student, due to their socioeconomic status, held jobs during high school contributing to what might be considered an “unhealthy” sleep schedule if they were up late completing assignments after their job. This lower sleep duration might be considered “unhealthy” even if it is something that they have become accustomed to. Interpersonal relationships for each student also may not be considered. An example is international students who may be staying up late or waking up very early to speak to their family members that are overseas, or a student who may be in a long distance relationship may report lower sleep duration without being able to convey this information. \n",
    "\n",
    "Our research question does not explicitly address how student habits might have changed post-pandemic (i.e. staying up later or sleeping in longer), how certain household/bedroom settings may affect sleep (sharing bed/room, having loud roommates, etc). It is also very possible that, when participants were filling out these surveys, they were not entirely truthful in their responses surrounding substance or alcohol use. \n",
    "\n",
    "To avoid invading the privacy of survey-takers and their health problems/history, the datasets we have chosen assign a number to each observation, where the number increases from 1 to the end of the dataset, so there is no identifying information on the datasets we are using. "
   ]
  },
  {
   "cell_type": "markdown",
   "metadata": {},
   "source": [
    "# Team Expectations "
   ]
  },
  {
   "cell_type": "markdown",
   "metadata": {},
   "source": [
    "* We will agree on clear task assignments for each project phase, with set deadlines that all members commit to meeting. Each member will be responsible for updating the group on their progress and any roadblocks encountered.\n",
    "* We are committed to fostering collaboration by encouraging participation from each team member, ensuring that everyone feels included by encouraging each other to participate and valuing everyone’s ideas.\n",
    "* We will provide honest and constructive feedback on our collaborative work, supporting one another in producing high-quality outcomes.\n",
    "* We agree to take turns, as needed, in leadership responsibilities such as planning meetings, setting tasks, sending reminders, and submitting assignments.\n",
    "* If a member faces difficulty meeting a deadline, they will inform the group promptly. The team will help redistribute tasks or support the member, ensuring project progress and shared responsibility.\n",
    "* If any conflicts come up, we are committed to handling them respectfully. Team members not involved will help mediate, and those involved will work together to solve the issue and keep the group’s harmony.\n",
    "* Before finalizing any submission, each member will review both their contributions and those of others, providing constructive feedback to ensure high-quality work across all project sections."
   ]
  },
  {
   "cell_type": "markdown",
   "metadata": {},
   "source": [
    "# Project Timeline Proposal"
   ]
  },
  {
   "cell_type": "markdown",
   "metadata": {},
   "source": [
    "| Meeting Date | Meeting Time | Completed Before Meeting | Discuss at Meeting |\n",
    "|--------------|--------------|--------------------------|---------------------|\n",
    "| 10/02        | 11 AM        | Initial brainstorming of potential research questions | Discuss and finalize five potential project ideas; determine preferred communication methods and project goals |\n",
    "| 10/07        | 11 AM        | Conduct initial background research on each idea; review previous years’ projects | Discuss insights from previous projects; identify relevant data sources; narrow down to 2-3 viable research questions |\n",
    "| 10/14        | 11 AM        | Review background research on shortlisted questions | Finalize a research question, select a previous project for the project review assignment |\n",
    "| 10/21        | 11 AM        | Complete project review notes; submit assignment | Refine research question: \"Which measurable sleep and lifestyle factors are most strongly associated with healthy sleep schedules among college students in the US?\" based on course content; conduct additional research; divide responsibilities for project proposal assignment |\n",
    "| 10/29        | 6 PM         | Gather notes for project proposal | Collaborate on finalizing the project proposal draft; assign final touches for submission |\n",
    "| 11/04        | 11 AM        | Review relevant datasets; gather preliminary data | Prepare for data checkpoint; discuss potential challenges in data collection and cleaning; finalize selected dataset for Checkpoint 1 |\n",
    "| 11/11        | 11 AM        | Complete data collection | Submit data for Checkpoint 1; outline initial steps for exploratory data analysis (EDA); assign tasks for data wrangling and cleaning |\n",
    "| 11/18        | 11 AM        | Initial data cleaning completed; begin EDA | Review EDA progress; discuss any issues with data visualization and analysis; make adjustments as necessary for Checkpoint 2 |\n",
    "| 11/25        | 11 AM        | Complete EDA | Submit EDA for Checkpoint 2; outline steps for further analysis and insights gathering; assign tasks for drafting results and discussion sections |\n",
    "| 12/02        | 11 AM        | Begin drafting results, discussion, and conclusion | Review findings; finalize insights and visualizations; organize the draft for final project submission |\n",
    "| 12/09        | 11 AM        | Complete project | Submit final project and complete any required group surveys or feedback forms |\n"
   ]
  },
  {
   "cell_type": "markdown",
   "metadata": {},
   "source": []
  }
 ],
 "metadata": {
  "kernelspec": {
   "display_name": "Python 3 (ipykernel)",
   "language": "python",
   "name": "python3"
  },
  "language_info": {
   "codemirror_mode": {
    "name": "ipython",
    "version": 3
   },
   "file_extension": ".py",
   "mimetype": "text/x-python",
   "name": "python",
   "nbconvert_exporter": "python",
   "pygments_lexer": "ipython3",
   "version": "3.9.7"
  }
 },
 "nbformat": 4,
 "nbformat_minor": 2
}
