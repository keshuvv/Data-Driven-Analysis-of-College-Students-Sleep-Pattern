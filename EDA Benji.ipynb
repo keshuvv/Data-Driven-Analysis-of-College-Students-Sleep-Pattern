{
 "cells": [
  {
   "cell_type": "markdown",
   "metadata": {},
   "source": [
    "# COGS 108 - Data Checkpoint"
   ]
  },
  {
   "cell_type": "markdown",
   "metadata": {},
   "source": [
    "# Names\n",
    "\n",
    "- Benjamin Zhang-Li\n",
    "- Ilia Aballa\n",
    "- Keshav Gupta\n",
    "- Nura Nejad"
   ]
  },
  {
   "cell_type": "markdown",
   "metadata": {},
   "source": [
    "# Research Question"
   ]
  },
  {
   "cell_type": "markdown",
   "metadata": {},
   "source": [
    "Which measurable factors, reported through self-surveys—such as sleep duration, physical activity, and screen time—are most strongly associated with getting adequate sleep schedules (7–9 hours per night) among college students (ages 18-25) in the US?"
   ]
  },
  {
   "cell_type": "markdown",
   "metadata": {},
   "source": [
    "## Background and Prior Work"
   ]
  },
  {
   "cell_type": "markdown",
   "metadata": {},
   "source": [
    "Maintaining a healthy sleep schedule is essential for college students in the U.S, as it directly impacts their academic performance, mental health, and overall well-being. However, research from the Centers for Disease Control and Prevention (CDC) shows that around 75% of college students report experiencing sleep disturbances or poor sleep quality, largely due to demanding schedules and the challenges of balancing coursework, social activities, and work commitments.<a name=\"cite_ref-1\"></a>[<sup>1</sup>](#cite_note-1) Lifestyle factors such as caffeine intake, dietary habits, screen time, alcohol and substance use, stress levels, and study habits all play a huge role in shaping sleep patterns. For instance, the CDC notes that inconsistent sleep patterns, common among college students, contribute to issues like “daytime sleepiness,” which can impair focus and academic success.<a name=\"cite_ref-1\"></a>[<sup>1</sup>](#cite_note-1)\n",
    "\n",
    "Our project seeks to understand which of these lifestyle habits most strongly affect sleep consistency and quality, focusing on students with demanding college schedules. To do so, we will examine measurable sleep factors like total sleep hours, consistency in average bedtime and wake time, and overall sleep quality. By analyzing these metrics, we aim to pinpoint lifestyle behaviors that correlate with healthier sleep patterns among college students in the U.S., hoping to provide practical insights into developing better sleep routines.\n",
    "\n",
    "Previous research has highlighted key lifestyle and mental health factors that impact sleep consistency among U.S. college students. For instance, one study found that habits like caffeine use, substance use, and high stress are strongly associated with sleep issues, showing how these daily choices affect students’ ability to keep a regular sleep schedule.<a name=\"cite_ref-2\"></a>[<sup>2</sup>](#cite_note-2) Similarly, research on sleep hygiene—such as managing screen time before bed, limiting caffeine intake, and moderation of alcohol use—demonstrates how these habits impact sleep quality, often making it difficult for students to maintain a steady routine.<a name=\"cite_ref-3\"></a>[<sup>3</sup>](#cite_note-3) Another recent study on college students' sleep trends highlights that irregular schedules and high-stress levels are key contributors to poor sleep quality, emphasizing the importance of exploring how lifestyle and mental health impact sleep patterns.<a name=\"cite_ref-3\"></a>[<sup>3</sup>](#cite_note-3)\n",
    "\n",
    "---\n",
    "\n",
    "1. <a name=\"cite_note-1\"></a> [^](#cite_ref-1) Mbous, Y.P.V., Nili, M., Mohamed, R., & Dwibedi, N. (2022). *Psychosocial Correlates of Insomnia Among College Students*. Preventing Chronic Disease. [Link to study](https://www.cdc.gov/pcd/issues/2022/22_0060.htm)\n",
    "\n",
    "2. <a name=\"cite_note-2\"></a> [^](#cite_ref-2) Emerson, J. (2024). *The Importance of Sleep for College Students*. University of South Florida. [Link to article](https://admissions.usf.edu/blog/the-importance-of-sleep-for-college-students)\n",
    "\n",
    "3. <a name=\"cite_note-3\"></a> [^](#cite_ref-3) Zhou, J., Qu, J., Ji, S., et al. (2022). *Research trends in college students' sleep from 2012 to 2021: A bibliometric analysis*. Front Psychiatry. [Link to study](https://pmc.ncbi.nlm.nih.gov/articles/PMC9530190/)"
   ]
  },
  {
   "cell_type": "markdown",
   "metadata": {},
   "source": [
    "# Hypothesis\n"
   ]
  },
  {
   "cell_type": "markdown",
   "metadata": {},
   "source": [
    "We hypothesize that, among U.S. college students aged 18-25, factors such as consistent bedtime and wake time, average duration of sleep, lower caffeine intake, limited screen time, and reduced substance use will correlate strongly with maintaining a sleep schedule of 7-9 hours. We predict these variables will have a significant positive impact on sleep quality due to their direct influence on sleep duration and overall sleep hygiene. The positive impacts of a sleep schedule of 7-9 hours will contribute to positive mental health and stress levels and GPA of at least 3.5."
   ]
  },
  {
   "cell_type": "markdown",
   "metadata": {},
   "source": [
    "# Data"
   ]
  },
  {
   "cell_type": "markdown",
   "metadata": {},
   "source": [
    "## Data overview\n",
    "\n",
    "- Dataset #1\n",
    "  - Dataset Name: Mental Health & Technology Usage Dataset\n",
    "  - Link to the dataset: https://docs.google.com/spreadsheets/d/e/2PACX-1vSFmPYlesdIKLYwQpsMuzlEFwbe5A6bdx_mydBtx-6oZRoFIIMvfPrf5GBhoIRD_AklksWy1tBDpTa0/pub?output=csv  \n",
    "  - Number of observations: 10,000\n",
    "  - Number of variables: 14\n",
    "  - Description: \n",
    "    - This dataset offers information on how various factors impact and individual’s mental health. Demographic information is taken such as age and gender. Variables such as daily screen time, self-reported mental health and sleep quality scores from scales of 1-10 are included. The dataset also includes other lifestyle details such as gaming, physical activity, support system access, and work environment effects. There are 10,000 unique observations, though we anticipate that this number will decrease greatly since the age range is from 18-65, and our focus is individuals aged 18-25.\n",
    "  - Our main focus will be on the following variables:\n",
    "    - Sleep factors: \n",
    "      - Self-reported number of sleep hours\n",
    "    - Lifestyle factors: \n",
    "      - Technology Usage: Reported screen time, technology usage, social media usage, and gaming hours\n",
    "      - Mental Health: Self-reported stress levels and mental health status \n",
    "      - Physical activity: Self-reported measure of daily physical activity \n",
    "    - Demographic data: \n",
    "      - Age and Gender\n",
    "  - These variables will be useful in our project because usage of technology and social media may contribute to higher levels of anxiety and depression that may impact sleep quality while online support and support system usage may contribute positively by lowering levels of stress. \n",
    "  - Mental health status and gaming hours are also an important variable because it allows us to measure how mental health can affect sleep and sleep quality.<br>\n",
    "- Dataset #2\n",
    "  - Dataset Name: Analyzing Student Sleep Patterns and Predicting Sleep Quality\n",
    "  - Link to the dataset: https://docs.google.com/spreadsheets/d/e/2PACX-1vQRUIlfM1na4PQQAaXLBWv7uoF_opKHsJs_a0spgsqEQC2_HPWvYjt2bOJ2sxIAMA9rIsqGJcDtTGA5/pub?output=csv\n",
    "  - Number of observations: 500\n",
    "  - Number of variables: 10\n",
    "  - Description: \n",
    "    - This dataset explores sleep behaviors and lifestyle factors among university students, focusing on variables such as sleep duration, bedtime and waketime on weekdays and weekends, study hours, screen time, caffeine intake, and physical activity levels. The data also includes demographic factors (age, gender, university year) and self-reported sleep quality. \n",
    "    - The dataset aims to provide insights into how lifestyle and academic habits relate to students' sleep patterns and overall sleep quality, offering potential areas of focus for improving student wellness.\n",
    "  - Our main focus will be on the following variables:\n",
    "    - Sleep Factors: Quality and duration\t\n",
    "      - Quality: Self-reported, allowing a subjective measure of sleep satisfaction or restfulness\t\n",
    "      - Duration: Measured by actual sleep hours, differentiated between weekdays and weekends.\n",
    "    - Substance Use: Caffeine\n",
    "      - Caffeine Intake: Detailed data on daily caffeine consumption.\n",
    "    - Lifestyle Factors: \n",
    "      - Screen time: Reported screen time hours, providing insights into possible influences on sleep quality.\n",
    "      - Physical Activity Levels: Self-reported measure of physical activity, relevant to overall health and sleep quality.\n",
    "    - Demographics:\n",
    "      - Age and Gender: Essential demographic data that can influence sleep patterns and lifestyle choices.\n",
    "      - University Year: Provides insight into academic demands related to sleep patterns.<br>\n",
    "- Dataset #3\n",
    "  - Dataset Name: Subjective Sleep Quality, Caffeine, and Dieting Behaviors\n",
    "  - Link to the dataset: https://pmc.ncbi.nlm.nih.gov/articles/PMC10521926/ \n",
    "  - Number of observations: 400\n",
    "  - Number of variables: 10\n",
    "  - Description: \n",
    "    - This dataset examines the relationship between subjective sleep quality, caffeine consumption (broken down by source: coffee, soda, tea, energy drinks), and dieting or exercising to lose weight among undergraduate students aged 18–24. It also incorporates demographic data like gender, GPA, and stress levels, measured using validated scales like the Pittsburgh Sleep Quality Index (PSQI).\n",
    "    - The study uses multivariable regression models to assess predictors of poor sleep quality (e.g., caffeine intake, stress, and alcohol use) while controlling for demographic and psychosocial factors.\n",
    "  - Our main focus will be on the following variables:\n",
    "    - Sleep Factors: Quality and duration\n",
    "      - Quality: Measured using PSQI, which covers subjective sleep quality, sleep disturbances, and daytime dysfunction.\n",
    "      - Duration: Average actual sleep hours per night reported.\n",
    "    - Substance Use: Caffeine and Alcohol Consumption\n",
    "      - Caffeine: Includes detailed data on total daily caffeine consumption and source-specific intake (coffee, soda, tea, energy drinks).\n",
    "      - Alcohol: Self-reported weekly alcohol consumption.\n",
    "    - Demographics: Gender, age, GPA"
   ]
  },
  {
   "cell_type": "markdown",
   "metadata": {},
   "source": [
    "## Import Statements for Data Loading, Cleaning, Tidying, and Wrangling"
   ]
  },
  {
   "cell_type": "code",
   "execution_count": 1,
   "metadata": {},
   "outputs": [],
   "source": [
    "import pandas as pd\n",
    "import numpy as np"
   ]
  },
  {
   "cell_type": "markdown",
   "metadata": {},
   "source": [
    "## Mental Health & Technology Usage Dataset"
   ]
  },
  {
   "cell_type": "code",
   "execution_count": 2,
   "metadata": {},
   "outputs": [
    {
     "name": "stdout",
     "output_type": "stream",
     "text": [
      "<class 'pandas.core.frame.DataFrame'>\n",
      "RangeIndex: 10000 entries, 0 to 9999\n",
      "Data columns (total 14 columns):\n",
      " #   Column                    Non-Null Count  Dtype  \n",
      "---  ------                    --------------  -----  \n",
      " 0   User_ID                   10000 non-null  object \n",
      " 1   Age                       10000 non-null  int64  \n",
      " 2   Gender                    10000 non-null  object \n",
      " 3   Technology_Usage_Hours    10000 non-null  float64\n",
      " 4   Social_Media_Usage_Hours  10000 non-null  float64\n",
      " 5   Gaming_Hours              10000 non-null  float64\n",
      " 6   Screen_Time_Hours         10000 non-null  float64\n",
      " 7   Mental_Health_Status      10000 non-null  object \n",
      " 8   Stress_Level              10000 non-null  object \n",
      " 9   Sleep_Hours               10000 non-null  float64\n",
      " 10  Physical_Activity_Hours   10000 non-null  float64\n",
      " 11  Support_Systems_Access    10000 non-null  object \n",
      " 12  Work_Environment_Impact   10000 non-null  object \n",
      " 13  Online_Support_Usage      10000 non-null  object \n",
      "dtypes: float64(6), int64(1), object(7)\n",
      "memory usage: 1.1+ MB\n"
     ]
    }
   ],
   "source": [
    "# load csv\n",
    "mental_health_data = pd.read_csv('https://docs.google.com/spreadsheets/d/e/2PACX-1vSFmPYlesdIKLYwQpsMuzlEFwbe5A6bdx_mydBtx-6oZRoFIIMvfPrf5GBhoIRD_AklksWy1tBDpTa0/pub?output=csv')\n",
    "\n",
    "mental_health_data.info()"
   ]
  },
  {
   "cell_type": "code",
   "execution_count": 3,
   "metadata": {},
   "outputs": [
    {
     "data": {
      "text/html": [
       "<div>\n",
       "<style scoped>\n",
       "    .dataframe tbody tr th:only-of-type {\n",
       "        vertical-align: middle;\n",
       "    }\n",
       "\n",
       "    .dataframe tbody tr th {\n",
       "        vertical-align: top;\n",
       "    }\n",
       "\n",
       "    .dataframe thead th {\n",
       "        text-align: right;\n",
       "    }\n",
       "</style>\n",
       "<table border=\"1\" class=\"dataframe\">\n",
       "  <thead>\n",
       "    <tr style=\"text-align: right;\">\n",
       "      <th></th>\n",
       "      <th>User_ID</th>\n",
       "      <th>Age</th>\n",
       "      <th>Gender</th>\n",
       "      <th>Technology_Usage_Hours</th>\n",
       "      <th>Social_Media_Usage_Hours</th>\n",
       "      <th>Gaming_Hours</th>\n",
       "      <th>Screen_Time_Hours</th>\n",
       "      <th>Mental_Health_Status</th>\n",
       "      <th>Stress_Level</th>\n",
       "      <th>Sleep_Hours</th>\n",
       "      <th>Physical_Activity_Hours</th>\n",
       "      <th>Support_Systems_Access</th>\n",
       "      <th>Work_Environment_Impact</th>\n",
       "      <th>Online_Support_Usage</th>\n",
       "    </tr>\n",
       "  </thead>\n",
       "  <tbody>\n",
       "    <tr>\n",
       "      <th>0</th>\n",
       "      <td>USER-00001</td>\n",
       "      <td>23</td>\n",
       "      <td>Female</td>\n",
       "      <td>6.57</td>\n",
       "      <td>6.00</td>\n",
       "      <td>0.68</td>\n",
       "      <td>12.36</td>\n",
       "      <td>Good</td>\n",
       "      <td>Low</td>\n",
       "      <td>8.01</td>\n",
       "      <td>6.71</td>\n",
       "      <td>No</td>\n",
       "      <td>Negative</td>\n",
       "      <td>Yes</td>\n",
       "    </tr>\n",
       "    <tr>\n",
       "      <th>1</th>\n",
       "      <td>USER-00002</td>\n",
       "      <td>21</td>\n",
       "      <td>Male</td>\n",
       "      <td>3.01</td>\n",
       "      <td>2.57</td>\n",
       "      <td>3.74</td>\n",
       "      <td>7.61</td>\n",
       "      <td>Poor</td>\n",
       "      <td>High</td>\n",
       "      <td>7.28</td>\n",
       "      <td>5.88</td>\n",
       "      <td>Yes</td>\n",
       "      <td>Positive</td>\n",
       "      <td>No</td>\n",
       "    </tr>\n",
       "    <tr>\n",
       "      <th>2</th>\n",
       "      <td>USER-00003</td>\n",
       "      <td>51</td>\n",
       "      <td>Male</td>\n",
       "      <td>3.04</td>\n",
       "      <td>6.14</td>\n",
       "      <td>1.26</td>\n",
       "      <td>3.16</td>\n",
       "      <td>Fair</td>\n",
       "      <td>High</td>\n",
       "      <td>8.04</td>\n",
       "      <td>9.81</td>\n",
       "      <td>No</td>\n",
       "      <td>Negative</td>\n",
       "      <td>No</td>\n",
       "    </tr>\n",
       "    <tr>\n",
       "      <th>3</th>\n",
       "      <td>USER-00004</td>\n",
       "      <td>25</td>\n",
       "      <td>Female</td>\n",
       "      <td>3.84</td>\n",
       "      <td>4.48</td>\n",
       "      <td>2.59</td>\n",
       "      <td>13.08</td>\n",
       "      <td>Excellent</td>\n",
       "      <td>Medium</td>\n",
       "      <td>5.62</td>\n",
       "      <td>5.28</td>\n",
       "      <td>Yes</td>\n",
       "      <td>Negative</td>\n",
       "      <td>Yes</td>\n",
       "    </tr>\n",
       "    <tr>\n",
       "      <th>4</th>\n",
       "      <td>USER-00005</td>\n",
       "      <td>53</td>\n",
       "      <td>Male</td>\n",
       "      <td>1.20</td>\n",
       "      <td>0.56</td>\n",
       "      <td>0.29</td>\n",
       "      <td>12.63</td>\n",
       "      <td>Good</td>\n",
       "      <td>Low</td>\n",
       "      <td>5.55</td>\n",
       "      <td>4.00</td>\n",
       "      <td>No</td>\n",
       "      <td>Positive</td>\n",
       "      <td>Yes</td>\n",
       "    </tr>\n",
       "  </tbody>\n",
       "</table>\n",
       "</div>"
      ],
      "text/plain": [
       "      User_ID  Age  Gender  Technology_Usage_Hours  Social_Media_Usage_Hours  \\\n",
       "0  USER-00001   23  Female                    6.57                      6.00   \n",
       "1  USER-00002   21    Male                    3.01                      2.57   \n",
       "2  USER-00003   51    Male                    3.04                      6.14   \n",
       "3  USER-00004   25  Female                    3.84                      4.48   \n",
       "4  USER-00005   53    Male                    1.20                      0.56   \n",
       "\n",
       "   Gaming_Hours  Screen_Time_Hours Mental_Health_Status Stress_Level  \\\n",
       "0          0.68              12.36                 Good          Low   \n",
       "1          3.74               7.61                 Poor         High   \n",
       "2          1.26               3.16                 Fair         High   \n",
       "3          2.59              13.08            Excellent       Medium   \n",
       "4          0.29              12.63                 Good          Low   \n",
       "\n",
       "   Sleep_Hours  Physical_Activity_Hours Support_Systems_Access  \\\n",
       "0         8.01                     6.71                     No   \n",
       "1         7.28                     5.88                    Yes   \n",
       "2         8.04                     9.81                     No   \n",
       "3         5.62                     5.28                    Yes   \n",
       "4         5.55                     4.00                     No   \n",
       "\n",
       "  Work_Environment_Impact Online_Support_Usage  \n",
       "0                Negative                  Yes  \n",
       "1                Positive                   No  \n",
       "2                Negative                   No  \n",
       "3                Negative                  Yes  \n",
       "4                Positive                  Yes  "
      ]
     },
     "execution_count": 3,
     "metadata": {},
     "output_type": "execute_result"
    }
   ],
   "source": [
    "mental_health_data.head()"
   ]
  },
  {
   "cell_type": "code",
   "execution_count": 4,
   "metadata": {},
   "outputs": [
    {
     "name": "stdout",
     "output_type": "stream",
     "text": [
      "Missing values in each column:\n",
      " User_ID                     0\n",
      "Age                         0\n",
      "Gender                      0\n",
      "Technology_Usage_Hours      0\n",
      "Social_Media_Usage_Hours    0\n",
      "Gaming_Hours                0\n",
      "Screen_Time_Hours           0\n",
      "Mental_Health_Status        0\n",
      "Stress_Level                0\n",
      "Sleep_Hours                 0\n",
      "Physical_Activity_Hours     0\n",
      "Support_Systems_Access      0\n",
      "Work_Environment_Impact     0\n",
      "Online_Support_Usage        0\n",
      "dtype: int64\n"
     ]
    }
   ],
   "source": [
    "# check number of missing values per column\n",
    "missing_data = mental_health_data.isnull().sum()\n",
    "print('Missing values in each column:\\n' , missing_data)"
   ]
  },
  {
   "cell_type": "code",
   "execution_count": 5,
   "metadata": {},
   "outputs": [],
   "source": [
    "# clean categorical columns\n",
    "if 'Gender' in mental_health_data.columns:\n",
    "\tmental_health_data['Gender'] = mental_health_data['Gender'].str.capitalize()\n",
    "    \n",
    "if 'Mental_Health_Status' in mental_health_data.columns:\n",
    "\tmental_health_data['Mental_Health_Status'] = mental_health_data['Mental_Health_Status'].str.capitalize()"
   ]
  },
  {
   "cell_type": "code",
   "execution_count": 6,
   "metadata": {},
   "outputs": [
    {
     "name": "stdout",
     "output_type": "stream",
     "text": [
      "Unique values in Gender: ['Female' 'Male' 'Other']\n",
      "Unique values in Mental Health Status: ['Good' 'Poor' 'Fair' 'Excellent']\n"
     ]
    }
   ],
   "source": [
    "# display values in categorical columns\n",
    "print(\"Unique values in Gender:\", mental_health_data['Gender'].unique() if 'Gender' in mental_health_data.columns else 'No Gender Column')\n",
    "\n",
    "print(\"Unique values in Mental Health Status:\", mental_health_data['Mental_Health_Status'].unique() if 'Mental_Health_Status' in mental_health_data.columns else 'No Mental Health Status Column')"
   ]
  },
  {
   "cell_type": "code",
   "execution_count": 7,
   "metadata": {},
   "outputs": [],
   "source": [
    "# convert columns to numeric (if needed)\n",
    "numeric_columns = ['Screen_Time', 'Physical_Activity', 'Sleep_Hours'] \n",
    "\n",
    "for col in numeric_columns:\n",
    "\tif col in mental_health_data.columns:\n",
    "\t      mental_health_data[col] = pd.to_numeric(mental_health_data[col], errors='coerce')"
   ]
  },
  {
   "cell_type": "code",
   "execution_count": 8,
   "metadata": {},
   "outputs": [],
   "source": [
    "# ensure all sleep hours are within 24 hour values\n",
    "if 'Sleep_Hours' in mental_health_data.columns:\n",
    "\tmental_health_data = mental_health_data[(mental_health_data['Sleep_Hours'] >= 0) & (mental_health_data['Sleep_Hours'] <= 24)]"
   ]
  },
  {
   "cell_type": "code",
   "execution_count": 9,
   "metadata": {},
   "outputs": [],
   "source": [
    "mental_health_data = mental_health_data[(mental_health_data['Age'] >= 18) & (mental_health_data['Age'] <= 25)]"
   ]
  },
  {
   "cell_type": "code",
   "execution_count": 10,
   "metadata": {},
   "outputs": [
    {
     "data": {
      "text/html": [
       "<div>\n",
       "<style scoped>\n",
       "    .dataframe tbody tr th:only-of-type {\n",
       "        vertical-align: middle;\n",
       "    }\n",
       "\n",
       "    .dataframe tbody tr th {\n",
       "        vertical-align: top;\n",
       "    }\n",
       "\n",
       "    .dataframe thead th {\n",
       "        text-align: right;\n",
       "    }\n",
       "</style>\n",
       "<table border=\"1\" class=\"dataframe\">\n",
       "  <thead>\n",
       "    <tr style=\"text-align: right;\">\n",
       "      <th></th>\n",
       "      <th>Age</th>\n",
       "      <th>Technology_Usage_Hours</th>\n",
       "      <th>Social_Media_Usage_Hours</th>\n",
       "      <th>Gaming_Hours</th>\n",
       "      <th>Screen_Time_Hours</th>\n",
       "      <th>Sleep_Hours</th>\n",
       "      <th>Physical_Activity_Hours</th>\n",
       "    </tr>\n",
       "  </thead>\n",
       "  <tbody>\n",
       "    <tr>\n",
       "      <th>count</th>\n",
       "      <td>1694.000000</td>\n",
       "      <td>1694.000000</td>\n",
       "      <td>1694.000000</td>\n",
       "      <td>1694.000000</td>\n",
       "      <td>1694.000000</td>\n",
       "      <td>1694.000000</td>\n",
       "      <td>1694.000000</td>\n",
       "    </tr>\n",
       "    <tr>\n",
       "      <th>mean</th>\n",
       "      <td>21.556080</td>\n",
       "      <td>6.460697</td>\n",
       "      <td>4.008223</td>\n",
       "      <td>2.541771</td>\n",
       "      <td>8.043583</td>\n",
       "      <td>6.499427</td>\n",
       "      <td>5.046877</td>\n",
       "    </tr>\n",
       "    <tr>\n",
       "      <th>std</th>\n",
       "      <td>2.295656</td>\n",
       "      <td>3.180053</td>\n",
       "      <td>2.270383</td>\n",
       "      <td>1.462610</td>\n",
       "      <td>4.033683</td>\n",
       "      <td>1.437296</td>\n",
       "      <td>2.911667</td>\n",
       "    </tr>\n",
       "    <tr>\n",
       "      <th>min</th>\n",
       "      <td>18.000000</td>\n",
       "      <td>1.000000</td>\n",
       "      <td>0.000000</td>\n",
       "      <td>0.000000</td>\n",
       "      <td>1.000000</td>\n",
       "      <td>4.030000</td>\n",
       "      <td>0.000000</td>\n",
       "    </tr>\n",
       "    <tr>\n",
       "      <th>25%</th>\n",
       "      <td>20.000000</td>\n",
       "      <td>3.762500</td>\n",
       "      <td>2.090000</td>\n",
       "      <td>1.230000</td>\n",
       "      <td>4.540000</td>\n",
       "      <td>5.252500</td>\n",
       "      <td>2.580000</td>\n",
       "    </tr>\n",
       "    <tr>\n",
       "      <th>50%</th>\n",
       "      <td>22.000000</td>\n",
       "      <td>6.425000</td>\n",
       "      <td>3.975000</td>\n",
       "      <td>2.560000</td>\n",
       "      <td>7.995000</td>\n",
       "      <td>6.505000</td>\n",
       "      <td>5.035000</td>\n",
       "    </tr>\n",
       "    <tr>\n",
       "      <th>75%</th>\n",
       "      <td>24.000000</td>\n",
       "      <td>9.220000</td>\n",
       "      <td>5.940000</td>\n",
       "      <td>3.817500</td>\n",
       "      <td>11.527500</td>\n",
       "      <td>7.747500</td>\n",
       "      <td>7.627500</td>\n",
       "    </tr>\n",
       "    <tr>\n",
       "      <th>max</th>\n",
       "      <td>25.000000</td>\n",
       "      <td>11.990000</td>\n",
       "      <td>8.000000</td>\n",
       "      <td>5.000000</td>\n",
       "      <td>15.000000</td>\n",
       "      <td>9.000000</td>\n",
       "      <td>10.000000</td>\n",
       "    </tr>\n",
       "  </tbody>\n",
       "</table>\n",
       "</div>"
      ],
      "text/plain": [
       "               Age  Technology_Usage_Hours  Social_Media_Usage_Hours  \\\n",
       "count  1694.000000             1694.000000               1694.000000   \n",
       "mean     21.556080                6.460697                  4.008223   \n",
       "std       2.295656                3.180053                  2.270383   \n",
       "min      18.000000                1.000000                  0.000000   \n",
       "25%      20.000000                3.762500                  2.090000   \n",
       "50%      22.000000                6.425000                  3.975000   \n",
       "75%      24.000000                9.220000                  5.940000   \n",
       "max      25.000000               11.990000                  8.000000   \n",
       "\n",
       "       Gaming_Hours  Screen_Time_Hours  Sleep_Hours  Physical_Activity_Hours  \n",
       "count   1694.000000        1694.000000  1694.000000              1694.000000  \n",
       "mean       2.541771           8.043583     6.499427                 5.046877  \n",
       "std        1.462610           4.033683     1.437296                 2.911667  \n",
       "min        0.000000           1.000000     4.030000                 0.000000  \n",
       "25%        1.230000           4.540000     5.252500                 2.580000  \n",
       "50%        2.560000           7.995000     6.505000                 5.035000  \n",
       "75%        3.817500          11.527500     7.747500                 7.627500  \n",
       "max        5.000000          15.000000     9.000000                10.000000  "
      ]
     },
     "execution_count": 10,
     "metadata": {},
     "output_type": "execute_result"
    }
   ],
   "source": [
    "# summary stats to verify cleaning\n",
    "mental_health_data.describe()"
   ]
  },
  {
   "cell_type": "code",
   "execution_count": 24,
   "metadata": {},
   "outputs": [],
   "source": [
    "## MENTAL HEALTH EDA"
   ]
  },
  {
   "cell_type": "code",
   "execution_count": 25,
   "metadata": {},
   "outputs": [],
   "source": [
    "import matplotlib.pyplot as plt\n",
    "import seaborn as sns\n"
   ]
  },
  {
   "cell_type": "code",
   "execution_count": 28,
   "metadata": {},
   "outputs": [
    {
     "data": {
      "image/png": "[encoded data removed]",
      "text/plain": [
       "<Figure size 640x480 with 1 Axes>"
      ]
     },
     "metadata": {},
     "output_type": "display_data"
    }
   ],
   "source": [
    "#Understanding the distribution of the number of hours of sleep \n",
    "sns.histplot(mental_health_data['Sleep_Hours'], bins=20, kde=True)\n",
    "plt.title(\"Distribution of Sleep Hours\")\n",
    "plt.show()\n"
   ]
  },
  {
   "cell_type": "code",
   "execution_count": 32,
   "metadata": {},
   "outputs": [
    {
     "name": "stderr",
     "output_type": "stream",
     "text": [
      "/tmp/ipykernel_2704/2384655517.py:13: FutureWarning: \n",
      "\n",
      "Passing `palette` without assigning `hue` is deprecated and will be removed in v0.14.0. Assign the `x` variable to `hue` and set `legend=False` for the same effect.\n",
      "\n",
      "  sns.boxplot(\n"
     ]
    },
    {
     "data": {
      "image/png": "[encoded data removed]",
      "text/plain": [
       "<Figure size 1000x600 with 1 Axes>"
      ]
     },
     "metadata": {},
     "output_type": "display_data"
    }
   ],
   "source": [
    "# Visualize Sleep Hours vs. Mental Health Status\n",
    "\n",
    "plt.figure(figsize=(10, 6))\n",
    "\n",
    "# Define a custom palette with 'Poor' as red\n",
    "custom_palette = {\n",
    "    'Poor': 'red',\n",
    "    'Fair': 'lightblue',\n",
    "    'Good': 'lightgreen',\n",
    "    'Excellent': 'gold'\n",
    "}\n",
    "\n",
    "sns.boxplot(\n",
    "    x='Mental_Health_Status',\n",
    "    y='Sleep_Hours',\n",
    "    data=mental_health_data,\n",
    "    order=['Poor', 'Fair', 'Good', 'Excellent'],  # Ensure correct order\n",
    "    linewidth=1.4,\n",
    "    palette=custom_palette  # Use the custom palette\n",
    ")\n",
    "\n",
    "plt.title(\"Sleep Hours vs Mental Health Status\")\n",
    "plt.xlabel(\"Mental Health Status\")\n",
    "plt.ylabel(\"Sleep Hours\")\n",
    "plt.xticks(rotation=45)\n",
    "plt.show()\n"
   ]
  },
  {
   "cell_type": "code",
   "execution_count": 43,
   "metadata": {},
   "outputs": [
    {
     "name": "stderr",
     "output_type": "stream",
     "text": [
      "/tmp/ipykernel_2704/188588438.py:7: FutureWarning: \n",
      "\n",
      "Passing `palette` without assigning `hue` is deprecated and will be removed in v0.14.0. Assign the `x` variable to `hue` and set `legend=False` for the same effect.\n",
      "\n",
      "  sns.violinplot(\n"
     ]
    },
    {
     "data": {
      "image/png": "[encoded data removed]",
      "text/plain": [
       "<Figure size 800x600 with 1 Axes>"
      ]
     },
     "metadata": {},
     "output_type": "display_data"
    }
   ],
   "source": [
    "# Stress levels across sleep categories\n",
    "bins = [0, 4, 6, 8, 10, 24]\n",
    "labels = ['0-4 Hours', '4-6 Hours', '6-8 Hours', '8-10 Hours', '10-24 Hours']\n",
    "mental_health_data['Sleep_Category'] = pd.cut(mental_health_data['Sleep_Hours'], bins=bins, labels=labels)\n",
    "\n",
    "plt.figure(figsize=(8, 6))\n",
    "sns.violinplot(\n",
    "    x='Sleep_Category',\n",
    "    y='Stress_Level',\n",
    "    data=mental_health_data,\n",
    "    palette='muted'\n",
    ")\n",
    "plt.title(\"Violin Plot: Stress Level Across Sleep Categories\")\n",
    "plt.xlabel(\"Sleep Hours (Binned)\")\n",
    "plt.ylabel(\"Stress Level\")\n",
    "plt.show()\n",
    "\n"
   ]
  },
  {
   "cell_type": "code",
   "execution_count": 36,
   "metadata": {},
   "outputs": [],
   "source": [
    "#Stress Level Trends Across Sleep Categories:\n",
    "    #Very Low Sleep: Stress levels are relatively high, with the distribution showing a significant portion at the higher end (closer to \"High\").\n",
    "    #Adequate Sleep: The distribution appears more balanced and centered, suggesting that stress levels are lower for individuals getting sufficient sleep.\n",
    "    #Very High Sleep: Stress levels may increase slightly, indicated by a broader or higher range toward the \"High\" stress level.\n",
    "#Distribution Shape:\n",
    "    #The violin shapes show the density of stress levels within each category. For example:\n",
    "    #Very Low and Low Sleep: These categories seem more spread, indicating greater variability in stress levels.\n",
    "    #Adequate Sleep: Narrower distribution suggests more consistent stress levels, mostly centered around \"Medium\" or \"Low.\"\n",
    "    #Wider sections of the violin indicate where most data points are concentrated.\n",
    "#Possible Patterns:\n",
    "    #Stress levels appear to decrease from Very Low and Low Sleep categories to Adequate Sleep.\n",
    "    #Interestingly, in the Very High Sleep category, stress levels might not decrease further and could slightly increase again. This may suggest a nonlinear relationship between stress and sleep hours."
   ]
  },
  {
   "cell_type": "code",
   "execution_count": 42,
   "metadata": {},
   "outputs": [
    {
     "data": {
      "image/png": "[encoded data removed]",
      "text/plain": [
       "<Figure size 640x480 with 1 Axes>"
      ]
     },
     "metadata": {},
     "output_type": "display_data"
    }
   ],
   "source": [
    "#2D KDE plot to represent the relationship between screen time and sleep hours\n",
    "\n",
    "sns.kdeplot(x='Screen_Time_Hours', y='Sleep_Hours', data=mental_health_data, cmap='RdPu', fill=True)\n",
    "plt.title(\"Density of Screen Time vs Sleep Hours\")\n",
    "plt.xlabel(\"Screen Time (hours)\")\n",
    "plt.ylabel(\"Sleep Hours\")\n",
    "plt.show()\n"
   ]
  },
  {
   "cell_type": "markdown",
   "metadata": {},
   "source": [
    "## Analyzing Student Sleep Patterns and Predicting Sleep Quality"
   ]
  },
  {
   "cell_type": "code",
   "execution_count": 11,
   "metadata": {},
   "outputs": [],
   "source": [
    "# load in data\n",
    "sleep_data = pd.read_csv('https://docs.google.com/spreadsheets/d/e/2PACX-1vQRUIlfM1na4PQQAaXLBWv7uoF_opKHsJs_a0spgsqEQC2_HPWvYjt2bOJ2sxIAMA9rIsqGJcDtTGA5/pub?output=csv')"
   ]
  },
  {
   "cell_type": "code",
   "execution_count": 12,
   "metadata": {},
   "outputs": [
    {
     "name": "stdout",
     "output_type": "stream",
     "text": [
      "<class 'pandas.core.frame.DataFrame'>\n",
      "RangeIndex: 500 entries, 0 to 499\n",
      "Data columns (total 14 columns):\n",
      " #   Column               Non-Null Count  Dtype  \n",
      "---  ------               --------------  -----  \n",
      " 0   Student_ID           500 non-null    int64  \n",
      " 1   Age                  500 non-null    int64  \n",
      " 2   Gender               500 non-null    object \n",
      " 3   University_Year      500 non-null    object \n",
      " 4   Sleep_Duration       500 non-null    float64\n",
      " 5   Study_Hours          500 non-null    float64\n",
      " 6   Screen_Time          500 non-null    float64\n",
      " 7   Caffeine_Intake      500 non-null    int64  \n",
      " 8   Physical_Activity    500 non-null    int64  \n",
      " 9   Sleep_Quality        500 non-null    int64  \n",
      " 10  Weekday_Sleep_Start  500 non-null    float64\n",
      " 11  Weekend_Sleep_Start  500 non-null    float64\n",
      " 12  Weekday_Sleep_End    500 non-null    float64\n",
      " 13  Weekend_Sleep_End    500 non-null    float64\n",
      "dtypes: float64(7), int64(5), object(2)\n",
      "memory usage: 54.8+ KB\n"
     ]
    }
   ],
   "source": [
    "sleep_data.info()"
   ]
  },
  {
   "cell_type": "code",
   "execution_count": 13,
   "metadata": {},
   "outputs": [
    {
     "data": {
      "text/html": [
       "<div>\n",
       "<style scoped>\n",
       "    .dataframe tbody tr th:only-of-type {\n",
       "        vertical-align: middle;\n",
       "    }\n",
       "\n",
       "    .dataframe tbody tr th {\n",
       "        vertical-align: top;\n",
       "    }\n",
       "\n",
       "    .dataframe thead th {\n",
       "        text-align: right;\n",
       "    }\n",
       "</style>\n",
       "<table border=\"1\" class=\"dataframe\">\n",
       "  <thead>\n",
       "    <tr style=\"text-align: right;\">\n",
       "      <th></th>\n",
       "      <th>Student_ID</th>\n",
       "      <th>Age</th>\n",
       "      <th>Gender</th>\n",
       "      <th>University_Year</th>\n",
       "      <th>Sleep_Duration</th>\n",
       "      <th>Study_Hours</th>\n",
       "      <th>Screen_Time</th>\n",
       "      <th>Caffeine_Intake</th>\n",
       "      <th>Physical_Activity</th>\n",
       "      <th>Sleep_Quality</th>\n",
       "      <th>Weekday_Sleep_Start</th>\n",
       "      <th>Weekend_Sleep_Start</th>\n",
       "      <th>Weekday_Sleep_End</th>\n",
       "      <th>Weekend_Sleep_End</th>\n",
       "    </tr>\n",
       "  </thead>\n",
       "  <tbody>\n",
       "    <tr>\n",
       "      <th>0</th>\n",
       "      <td>1</td>\n",
       "      <td>24</td>\n",
       "      <td>Other</td>\n",
       "      <td>2nd Year</td>\n",
       "      <td>7.7</td>\n",
       "      <td>7.9</td>\n",
       "      <td>3.4</td>\n",
       "      <td>2</td>\n",
       "      <td>37</td>\n",
       "      <td>10</td>\n",
       "      <td>14.16</td>\n",
       "      <td>4.05</td>\n",
       "      <td>7.41</td>\n",
       "      <td>7.06</td>\n",
       "    </tr>\n",
       "    <tr>\n",
       "      <th>1</th>\n",
       "      <td>2</td>\n",
       "      <td>21</td>\n",
       "      <td>Male</td>\n",
       "      <td>1st Year</td>\n",
       "      <td>6.3</td>\n",
       "      <td>6.0</td>\n",
       "      <td>1.9</td>\n",
       "      <td>5</td>\n",
       "      <td>74</td>\n",
       "      <td>2</td>\n",
       "      <td>8.73</td>\n",
       "      <td>7.10</td>\n",
       "      <td>8.21</td>\n",
       "      <td>10.21</td>\n",
       "    </tr>\n",
       "    <tr>\n",
       "      <th>2</th>\n",
       "      <td>3</td>\n",
       "      <td>22</td>\n",
       "      <td>Male</td>\n",
       "      <td>4th Year</td>\n",
       "      <td>5.1</td>\n",
       "      <td>6.7</td>\n",
       "      <td>3.9</td>\n",
       "      <td>5</td>\n",
       "      <td>53</td>\n",
       "      <td>5</td>\n",
       "      <td>20.00</td>\n",
       "      <td>20.47</td>\n",
       "      <td>6.88</td>\n",
       "      <td>10.92</td>\n",
       "    </tr>\n",
       "    <tr>\n",
       "      <th>3</th>\n",
       "      <td>4</td>\n",
       "      <td>24</td>\n",
       "      <td>Other</td>\n",
       "      <td>4th Year</td>\n",
       "      <td>6.3</td>\n",
       "      <td>8.6</td>\n",
       "      <td>2.8</td>\n",
       "      <td>4</td>\n",
       "      <td>55</td>\n",
       "      <td>9</td>\n",
       "      <td>19.82</td>\n",
       "      <td>4.08</td>\n",
       "      <td>6.69</td>\n",
       "      <td>9.42</td>\n",
       "    </tr>\n",
       "    <tr>\n",
       "      <th>4</th>\n",
       "      <td>5</td>\n",
       "      <td>20</td>\n",
       "      <td>Male</td>\n",
       "      <td>4th Year</td>\n",
       "      <td>4.7</td>\n",
       "      <td>2.7</td>\n",
       "      <td>2.7</td>\n",
       "      <td>0</td>\n",
       "      <td>85</td>\n",
       "      <td>3</td>\n",
       "      <td>20.98</td>\n",
       "      <td>6.12</td>\n",
       "      <td>8.98</td>\n",
       "      <td>9.01</td>\n",
       "    </tr>\n",
       "  </tbody>\n",
       "</table>\n",
       "</div>"
      ],
      "text/plain": [
       "   Student_ID  Age Gender University_Year  Sleep_Duration  Study_Hours  \\\n",
       "0           1   24  Other        2nd Year             7.7          7.9   \n",
       "1           2   21   Male        1st Year             6.3          6.0   \n",
       "2           3   22   Male        4th Year             5.1          6.7   \n",
       "3           4   24  Other        4th Year             6.3          8.6   \n",
       "4           5   20   Male        4th Year             4.7          2.7   \n",
       "\n",
       "   Screen_Time  Caffeine_Intake  Physical_Activity  Sleep_Quality  \\\n",
       "0          3.4                2                 37             10   \n",
       "1          1.9                5                 74              2   \n",
       "2          3.9                5                 53              5   \n",
       "3          2.8                4                 55              9   \n",
       "4          2.7                0                 85              3   \n",
       "\n",
       "   Weekday_Sleep_Start  Weekend_Sleep_Start  Weekday_Sleep_End  \\\n",
       "0                14.16                 4.05               7.41   \n",
       "1                 8.73                 7.10               8.21   \n",
       "2                20.00                20.47               6.88   \n",
       "3                19.82                 4.08               6.69   \n",
       "4                20.98                 6.12               8.98   \n",
       "\n",
       "   Weekend_Sleep_End  \n",
       "0               7.06  \n",
       "1              10.21  \n",
       "2              10.92  \n",
       "3               9.42  \n",
       "4               9.01  "
      ]
     },
     "execution_count": 13,
     "metadata": {},
     "output_type": "execute_result"
    }
   ],
   "source": [
    "sleep_data.head()"
   ]
  },
  {
   "cell_type": "code",
   "execution_count": 14,
   "metadata": {},
   "outputs": [],
   "source": [
    "# converting time columns to uniform 24-hr format\n",
    "time_columns = ['Weekday_Sleep_Start', 'Weekend_Sleep_Start', 'Weekday_Sleep_End', 'Weekend_Sleep_End']"
   ]
  },
  {
   "cell_type": "code",
   "execution_count": 15,
   "metadata": {},
   "outputs": [],
   "source": [
    "# 24 hr format\n",
    "for col in time_columns:\n",
    "\tsleep_data[col] = pd.to_datetime(sleep_data[col], errors='coerce').dt.hour"
   ]
  },
  {
   "cell_type": "code",
   "execution_count": 16,
   "metadata": {},
   "outputs": [
    {
     "name": "stdout",
     "output_type": "stream",
     "text": [
      "Missing values in each column:\n",
      " Student_ID             0\n",
      "Age                    0\n",
      "Gender                 0\n",
      "University_Year        0\n",
      "Sleep_Duration         0\n",
      "Study_Hours            0\n",
      "Screen_Time            0\n",
      "Caffeine_Intake        0\n",
      "Physical_Activity      0\n",
      "Sleep_Quality          0\n",
      "Weekday_Sleep_Start    0\n",
      "Weekend_Sleep_Start    0\n",
      "Weekday_Sleep_End      0\n",
      "Weekend_Sleep_End      0\n",
      "dtype: int64\n"
     ]
    }
   ],
   "source": [
    "# handle missing values\n",
    "missing_data = sleep_data.isnull().sum()\n",
    "print(\"Missing values in each column:\\n\", missing_data)"
   ]
  },
  {
   "cell_type": "code",
   "execution_count": 17,
   "metadata": {},
   "outputs": [],
   "source": [
    "# drop rows with missing values\n",
    "sleep_data.dropna(inplace=True)"
   ]
  },
  {
   "cell_type": "code",
   "execution_count": 18,
   "metadata": {},
   "outputs": [],
   "source": [
    "# clean categorical variables\n",
    "sleep_data['Gender'] = sleep_data['Gender'].str.capitalize()\n",
    "sleep_data['University_Year'] = sleep_data['University_Year'].str.lower()"
   ]
  },
  {
   "cell_type": "code",
   "execution_count": 19,
   "metadata": {},
   "outputs": [
    {
     "name": "stdout",
     "output_type": "stream",
     "text": [
      "Unique values in Gender: ['Other' 'Male' 'Female']\n",
      "Unique values in Univeristy Year: ['2nd year' '1st year' '4th year' '3rd year']\n"
     ]
    }
   ],
   "source": [
    "# display unique values in categorical columns\n",
    "print('Unique values in Gender:', sleep_data['Gender'].unique())\n",
    "print('Unique values in Univeristy Year:', sleep_data['University_Year'].unique())"
   ]
  },
  {
   "cell_type": "code",
   "execution_count": 20,
   "metadata": {},
   "outputs": [
    {
     "name": "stdout",
     "output_type": "stream",
     "text": [
      "       Student_ID        Age  Sleep_Duration  Study_Hours  Screen_Time  \\\n",
      "count  500.000000  500.00000      500.000000   500.000000   500.000000   \n",
      "mean   250.500000   21.53600        6.472400     5.981600     2.525000   \n",
      "std    144.481833    2.33315        1.485764     3.475725     0.859414   \n",
      "min      1.000000   18.00000        4.000000     0.100000     1.000000   \n",
      "25%    125.750000   20.00000        5.100000     2.900000     1.800000   \n",
      "50%    250.500000   21.00000        6.500000     6.050000     2.600000   \n",
      "75%    375.250000   24.00000        7.800000     8.800000     3.300000   \n",
      "max    500.000000   25.00000        9.000000    12.000000     4.000000   \n",
      "\n",
      "       Caffeine_Intake  Physical_Activity  Sleep_Quality  Weekday_Sleep_Start  \\\n",
      "count       500.000000         500.000000     500.000000                500.0   \n",
      "mean          2.462000          62.342000       5.362000                  0.0   \n",
      "std           1.682325          35.191674       2.967249                  0.0   \n",
      "min           0.000000           0.000000       1.000000                  0.0   \n",
      "25%           1.000000          32.750000       3.000000                  0.0   \n",
      "50%           2.000000          62.500000       5.000000                  0.0   \n",
      "75%           4.000000          93.250000       8.000000                  0.0   \n",
      "max           5.000000         120.000000      10.000000                  0.0   \n",
      "\n",
      "       Weekend_Sleep_Start  Weekday_Sleep_End  Weekend_Sleep_End  \n",
      "count                500.0              500.0              500.0  \n",
      "mean                   0.0                0.0                0.0  \n",
      "std                    0.0                0.0                0.0  \n",
      "min                    0.0                0.0                0.0  \n",
      "25%                    0.0                0.0                0.0  \n",
      "50%                    0.0                0.0                0.0  \n",
      "75%                    0.0                0.0                0.0  \n",
      "max                    0.0                0.0                0.0  \n"
     ]
    }
   ],
   "source": [
    "# summary stats to verify cleaning\n",
    "print(sleep_data.describe())"
   ]
  },
  {
   "cell_type": "markdown",
   "metadata": {},
   "source": [
    "# Ethics & Privacy"
   ]
  },
  {
   "cell_type": "markdown",
   "metadata": {},
   "source": [
    "In our project, there are potential unintended consequences that could arise from our analysis. By focusing on specific measurable factors, we may inadvertently oversimplify the complexity of sleep behaviors among students. For instance, our findings could reinforce stereotypes or generalizations about students with irregular sleep schedules without fully considering underlying causes like socioeconomic pressures, mental health challenges, or cultural factors. Such oversights might lead to conclusions that are not inclusive or effective for all students.\n",
    "\n",
    "Our datasets may exclude or mislabel students who have underlying health conditions such as insomnia, mental health issues, or chronic illnesses. These populations might be underrepresented, and their data could be disproportionately treated as outliers and removed before the datasets were made accessible to us. Additionally, we acknowledge that the anonymized nature of our datasets limits our ability to confirm that the data truly represents college students across the US, which could introduce regional or demographic biases.\n",
    "\n",
    "Socioeconomic factors present another challenge. For example, students from lower-income backgrounds may have formed sleep habits during high school while managing jobs or other responsibilities, contributing to what might be labeled as \"unhealthy\" sleep schedules. Our project does not directly measure these socioeconomic factors, and we acknowledge that this could limit the depth of our analysis. Similarly, interpersonal relationships and cultural practices, such as international students managing time zone differences to stay connected with family, could also influence sleep patterns in ways not captured in our surveys.\n",
    "\n",
    "Moreover, we do not explicitly address how habits may have changed post-pandemic (e.g., altered sleep patterns due to remote learning or shifting routines) or the impact of environmental factors such as shared living spaces, loud roommates, or limited access to comfortable sleeping arrangements. These factors could significantly influence sleep quality but are not accounted for in our analysis.\n",
    "\n",
    "To mitigate privacy concerns, our datasets anonymize participants by assigning numbers to each observation. While this ensures no personal or identifying information is used, it also limits our ability to contextualize the data fully. Participants' self-reported survey responses may also contain inaccuracies due to social desirability bias or hesitancy to disclose substance or alcohol use, potentially skewing our results.\n",
    "\n",
    "To mitigate these biases and unintended consequences, we will:\n",
    "1. Acknowledge the limitations of our data and analysis, particularly the absence of socioeconomic and environmental context.    \n",
    "2. Avoid broad generalizations, presenting findings as trends specific to the datasets.\n",
    "3. Recommend future research to explore underrepresented populations and additional variables like socioeconomic status, mental health, and environmental factors.\n",
    "\n",
    "By critically reflecting on these aspects, we aim to ensure our study is ethical, inclusive, and aware of its limitations."
   ]
  },
  {
   "cell_type": "markdown",
   "metadata": {},
   "source": [
    "# Team Expectations "
   ]
  },
  {
   "cell_type": "markdown",
   "metadata": {},
   "source": [
    "* We will agree on clear task assignments for each project phase, with set deadlines that all members commit to meeting. Each member will be responsible for updating the group on their progress and any roadblocks encountered.\n",
    "* We are committed to fostering collaboration by encouraging participation from each team member, ensuring that everyone feels included by encouraging each other to participate and valuing everyone’s ideas.\n",
    "* We will provide honest and constructive feedback on our collaborative work, supporting one another in producing high-quality outcomes.\n",
    "* We agree to take turns, as needed, in leadership responsibilities such as planning meetings, setting tasks, sending reminders, and submitting assignments.\n",
    "* If a member faces difficulty meeting a deadline, they will inform the group promptly. The team will help redistribute tasks or support the member, ensuring project progress and shared responsibility.\n",
    "* If any conflicts come up, we are committed to handling them respectfully. Team members not involved will help mediate, and those involved will work together to solve the issue and keep the group’s harmony.\n",
    "* Before finalizing any submission, each member will review both their contributions and those of others, providing constructive feedback to ensure high-quality work across all project sections."
   ]
  },
  {
   "cell_type": "markdown",
   "metadata": {},
   "source": [
    "# Project Timeline Proposal"
   ]
  },
  {
   "cell_type": "markdown",
   "metadata": {},
   "source": [
    "| Meeting Date | Meeting Time | Completed Before Meeting                                    | Discuss at Meeting                                                                                          |\n",
    "|--------------|--------------|------------------------------------------------------------|-------------------------------------------------------------------------------------------------------------|\n",
    "| 10/02        | 11 AM        | Initial brainstorming of potential research questions      | Discuss and finalize five potential project ideas; determine preferred communication methods and project goals |\n",
    "| 10/07        | 11 AM        | Conduct initial background research on each idea; review previous years’ projects | Discuss insights from previous projects; identify relevant data sources; narrow down to 2-3 viable research questions |\n",
    "| 10/14        | 11 AM        | Review background research on shortlisted questions        | Finalize a research question, select a previous project for the project review assignment                   |\n",
    "| 10/21        | 11 AM        | Complete project review notes; submit assignment           | Refine research question: \"Which measurable sleep and lifestyle factors are most strongly associated with healthy sleep schedules among college students in the US?\" based on course content; conduct additional research; divide responsibilities for project proposal assignment |\n",
    "| 10/29        | 6 PM         | Gather notes for project proposal                          | Collaborate on finalizing the project proposal draft; assign final touches for submission                   |\n",
    "| 10/31        | 6 PM         | Prepare survey questions individually                      | Create a survey to gather data from college students (ages 18-25) in the US; finalize survey questions and begin distributing online |\n",
    "| 11/04        | 11 AM        | Review relevant datasets; gather preliminary data; distribute survey link | Prepare for data checkpoint; discuss potential challenges in data collection and cleaning; finalize selected dataset for Checkpoint 1 |\n",
    "| 11/11        | 3 PM         | Continue distributing survey link; each team member reviewed relevant datasets | Finalize the datasets for this study; ensure all datasets align with the research question                  |\n",
    "| 11/12        | 1 PM         | Work on Checkpoint 1 submission; review survey progress (45 responses so far) | Complete final touches and submit Checkpoint 1; outline initial steps for exploratory data analysis (EDA); assign tasks for data wrangling and cleaning |\n",
    "| 11/18        | 11 AM        | Initial data cleaning completed; survey distribution ongoing | Review EDA progress; discuss any issues with data visualization and analysis; make adjustments as necessary for Checkpoint 2 |\n",
    "| 11/25        | 11 AM        | Complete EDA Checkpoint                                    | Submit EDA for Checkpoint 2; outline steps for further analysis and insights gathering; assign tasks for drafting results and discussion sections |\n",
    "| 12/02        | 11 AM        | Begin drafting results, discussion, and conclusion; survey distribution near completion | Review findings; finalize insights and visualizations; organize the draft for final project submission       |\n",
    "| 12/05        | 7 PM         | Finalize survey data collection and analysis               | Ensure all survey responses are integrated into analysis and results                                        |\n",
    "| 12/09        | 11 AM        | Complete project                                           | Submit final project and complete any required group surveys or feedback forms                              |"
   ]
  }
 ],
 "metadata": {
  "kernelspec": {
   "display_name": "Python 3 (ipykernel)",
   "language": "python",
   "name": "python3"
  },
  "language_info": {
   "codemirror_mode": {
    "name": "ipython",
    "version": 3
   },
   "file_extension": ".py",
   "mimetype": "text/x-python",
   "name": "python",
   "nbconvert_exporter": "python",
   "pygments_lexer": "ipython3",
   "version": "3.11.9"
  }
 },
 "nbformat": 4,
 "nbformat_minor": 4
}
