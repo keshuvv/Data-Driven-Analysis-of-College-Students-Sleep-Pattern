{
 "cells": [
  {
   "cell_type": "markdown",
   "metadata": {},
   "source": [
    "**If you lost points on the last checkpoint you can get them back by responding to TA/IA feedback**  \n",
    "\n",
    "Update/change the relevant sections where you lost those points, make sure you respond on GitHub Issues to your TA/IA to call their attention to the changes you made here.\n",
    "\n",
    "Please update your Timeline... no battle plan survives contact with the enemy, so make sure we understand how your plans have changed."
   ]
  },
  {
   "cell_type": "markdown",
   "metadata": {},
   "source": [
    "# COGS 108 - Data Checkpoint"
   ]
  },
  {
   "cell_type": "markdown",
   "metadata": {},
   "source": [
    "# Names\n",
    "\n",
    "- Benjamin Zhang-Li\n",
    "- Ilia Aballa\n",
    "- Keshav Gupta\n",
    "- Nura Nejad"
   ]
  },
  {
   "cell_type": "markdown",
   "metadata": {},
   "source": [
    "# Research Question"
   ]
  },
  {
   "cell_type": "markdown",
   "metadata": {},
   "source": [
    "Which measurable factors, reported through self-surveys—such as sleep duration, physical activity, and screen time—are most strongly associated with getting adequate sleep schedules (7–9 hours per night) among college students (ages 18-25) in the US?"
   ]
  },
  {
   "cell_type": "markdown",
   "metadata": {},
   "source": [
    "## Background and Prior Work"
   ]
  },
  {
   "cell_type": "markdown",
   "metadata": {},
   "source": [
    "Maintaining a healthy sleep schedule is essential for college students in the U.S, as it directly impacts their academic performance, mental health, and overall well-being. However, research from the Centers for Disease Control and Prevention (CDC) shows that around 75% of college students report experiencing sleep disturbances or poor sleep quality, largely due to demanding schedules and the challenges of balancing coursework, social activities, and work commitments.<a name=\"cite_ref-1\"></a>[<sup>1</sup>](#cite_note-1) Lifestyle factors such as caffeine intake, dietary habits, screen time, alcohol and substance use, stress levels, and study habits all play a huge role in shaping sleep patterns. For instance, the CDC notes that inconsistent sleep patterns, common among college students, contribute to issues like “daytime sleepiness,” which can impair focus and academic success.<a name=\"cite_ref-1\"></a>[<sup>1</sup>](#cite_note-1)\n",
    "\n",
    "Our project seeks to understand which of these lifestyle habits most strongly affect sleep consistency and quality, focusing on students with demanding college schedules. To do so, we will examine measurable sleep factors like total sleep hours, consistency in average bedtime and wake time, and overall sleep quality. By analyzing these metrics, we aim to pinpoint lifestyle behaviors that correlate with healthier sleep patterns among college students in the U.S., hoping to provide practical insights into developing better sleep routines.\n",
    "\n",
    "Previous research has highlighted key lifestyle and mental health factors that impact sleep consistency among U.S. college students. For instance, one study found that habits like caffeine use, substance use, and high stress are strongly associated with sleep issues, showing how these daily choices affect students’ ability to keep a regular sleep schedule.<a name=\"cite_ref-2\"></a>[<sup>2</sup>](#cite_note-2) Similarly, research on sleep hygiene—such as managing screen time before bed, limiting caffeine intake, and moderation of alcohol use—demonstrates how these habits impact sleep quality, often making it difficult for students to maintain a steady routine.<a name=\"cite_ref-3\"></a>[<sup>3</sup>](#cite_note-3) Another recent study on college students' sleep trends highlights that irregular schedules and high-stress levels are key contributors to poor sleep quality, emphasizing the importance of exploring how lifestyle and mental health impact sleep patterns.<a name=\"cite_ref-3\"></a>[<sup>3</sup>](#cite_note-3)\n",
    "\n",
    "---\n",
    "\n",
    "1. <a name=\"cite_note-1\"></a> [^](#cite_ref-1) Mbous, Y.P.V., Nili, M., Mohamed, R., & Dwibedi, N. (2022). *Psychosocial Correlates of Insomnia Among College Students*. Preventing Chronic Disease. [Link to study](https://www.cdc.gov/pcd/issues/2022/22_0060.htm)\n",
    "\n",
    "2. <a name=\"cite_note-2\"></a> [^](#cite_ref-2) Emerson, J. (2024). *The Importance of Sleep for College Students*. University of South Florida. [Link to article](https://admissions.usf.edu/blog/the-importance-of-sleep-for-college-students)\n",
    "\n",
    "3. <a name=\"cite_note-3\"></a> [^](#cite_ref-3) Zhou, J., Qu, J., Ji, S., et al. (2022). *Research trends in college students' sleep from 2012 to 2021: A bibliometric analysis*. Front Psychiatry. [Link to study](https://pmc.ncbi.nlm.nih.gov/articles/PMC9530190/)"
   ]
  },
  {
   "cell_type": "markdown",
   "metadata": {},
   "source": [
    "# Hypothesis\n"
   ]
  },
  {
   "cell_type": "markdown",
   "metadata": {},
   "source": [
    "We hypothesize that, among U.S. college students aged 18-25, factors such as consistent bedtime and wake time, average duration of sleep, lower caffeine intake, limited screen time, and reduced substance use will correlate strongly with maintaining a sleep schedule of 7-9 hours. We predict these variables will have a significant positive impact on sleep quality due to their direct influence on sleep duration and overall sleep hygiene. The positive impacts of a sleep schedule of 7-9 hours will contribute to positive mental health and stress levels and GPA of at least 3.5."
   ]
  },
  {
   "cell_type": "markdown",
   "metadata": {},
   "source": [
    "# Data"
   ]
  },
  {
   "cell_type": "markdown",
   "metadata": {},
   "source": [
    "## Data overview\n",
    "\n",
    "- Dataset #1\n",
    "  - Dataset Name: Mental Health & Technology Usage Dataset\n",
    "  - Link to the dataset: https://www.kaggle.com/datasets/waqi786/mental-health-and-technology-usage-dataset \n",
    "  - Number of observations: 10,000\n",
    "  - Number of variables: 14\n",
    "  - Description: \n",
    "    - This dataset offers information on how various factors impact and individual’s mental health. Demographic information is taken such as age and gender. Variables such as daily screen time, self-reported mental health and sleep quality scores from scales of 1-10 are included. The dataset also includes other lifestyle details such as gaming, physical activity, support system access, and work environment effects. There are 10,000 unique observations, though we anticipate that this number will decrease greatly since the age range is from 18-65, and our focus is individuals aged 18-25.\n",
    "  - Our main focus will be on the following variables:\n",
    "    - Sleep factors: \n",
    "      - Self-reported number of sleep hours\n",
    "    - Lifestyle factors: \n",
    "      - Technology Usage: Reported screen time, technology usage, social media usage, and gaming hours\n",
    "      - Mental Health: Self-reported stress levels and mental health status \n",
    "      - Physical activity: Self-reported measure of daily physical activity \n",
    "    - Demographic data: \n",
    "      - Age and Gender\n",
    "  - These variables will be useful in our project because usage of technology and social media may contribute to higher levels of anxiety and depression that may impact sleep quality while online support and support system usage may contribute positively by lowering levels of stress. \n",
    "  - Mental health status and gaming hours are also an important variable because it allows us to measure how mental health can affect sleep and sleep quality.<br>\n",
    "- Dataset #2\n",
    "  - Dataset Name: Analyzing Student Sleep Patterns and Predicting Sleep Quality\n",
    "  - Link to the dataset: https://www.kaggle.com/code/devraai/analyzing-student-sleep-patterns-and-predicting/input\n",
    "  - Number of observations: 500\n",
    "  - Number of variables: 10\n",
    "  - Description: \n",
    "    - This dataset explores sleep behaviors and lifestyle factors among university students, focusing on variables such as sleep duration, bedtime and waketime on weekdays and weekends, study hours, screen time, caffeine intake, and physical activity levels. The data also includes demographic factors (age, gender, university year) and self-reported sleep quality. \n",
    "    - The dataset aims to provide insights into how lifestyle and academic habits relate to students' sleep patterns and overall sleep quality, offering potential areas of focus for improving student wellness.\n",
    "  - Our main focus will be on the following variables:\n",
    "    - Sleep Factors: Quality and duration\t\n",
    "      - Quality: Self-reported, allowing a subjective measure of sleep satisfaction or restfulness\t\n",
    "      - Duration: Measured by actual sleep hours, differentiated between weekdays and weekends.\n",
    "    - Substance Use: Caffeine\n",
    "      - Caffeine Intake: Detailed data on daily caffeine consumption.\n",
    "    - Lifestyle Factors: \n",
    "      - Screen time: Reported screen time hours, providing insights into possible influences on sleep quality.\n",
    "      - Physical Activity Levels: Self-reported measure of physical activity, relevant to overall health and sleep quality.\n",
    "    - Demographics:\n",
    "      - Age and Gender: Essential demographic data that can influence sleep patterns and lifestyle choices.\n",
    "      - University Year: Provides insight into academic demands related to sleep patterns.<br>\n",
    "- Dataset #3\n",
    "  - Dataset Name: Subjective Sleep Quality, Caffeine, and Dieting Behaviors\n",
    "  - Link to the dataset: https://pmc.ncbi.nlm.nih.gov/articles/PMC10521926/ \n",
    "  - Number of observations: 400\n",
    "  - Number of variables: 10\n",
    "  - Description: \n",
    "    - This dataset examines the relationship between subjective sleep quality, caffeine consumption (broken down by source: coffee, soda, tea, energy drinks), and dieting or exercising to lose weight among undergraduate students aged 18–24. It also incorporates demographic data like gender, GPA, and stress levels, measured using validated scales like the Pittsburgh Sleep Quality Index (PSQI).\n",
    "    - The study uses multivariable regression models to assess predictors of poor sleep quality (e.g., caffeine intake, stress, and alcohol use) while controlling for demographic and psychosocial factors.\n",
    "  - Our main focus will be on the following variables:\n",
    "    - Sleep Factors: Quality and duration\n",
    "      - Quality: Measured using PSQI, which covers subjective sleep quality, sleep disturbances, and daytime dysfunction.\n",
    "      - Duration: Average actual sleep hours per night reported.\n",
    "    - Substance Use: Caffeine and Alcohol Consumption\n",
    "      - Caffeine: Includes detailed data on total daily caffeine consumption and source-specific intake (coffee, soda, tea, energy drinks).\n",
    "      - Alcohol: Self-reported weekly alcohol consumption.\n",
    "    - Demographics: Gender, age, GPA"
   ]
  },
  {
   "cell_type": "markdown",
   "metadata": {},
   "source": [
    "## Dataset #1 (use name instead of number here)"
   ]
  },
  {
   "cell_type": "code",
   "execution_count": null,
   "metadata": {},
   "outputs": [],
   "source": [
    "## YOUR CODE TO LOAD/CLEAN/TIDY/WRANGLE THE DATA GOES HERE\n",
    "## FEEL FREE TO ADD MULTIPLE CELLS PER SECTION "
   ]
  },
  {
   "cell_type": "markdown",
   "metadata": {},
   "source": [
    "## Dataset #2 (if you have more than one, use name instead of number here)"
   ]
  },
  {
   "cell_type": "code",
   "execution_count": null,
   "metadata": {},
   "outputs": [],
   "source": [
    "## YOUR CODE TO LOAD/CLEAN/TIDY/WRANGLE THE DATA GOES HERE\n",
    "## FEEL FREE TO ADD MULTIPLE CELLS PER SECTION "
   ]
  },
  {
   "cell_type": "markdown",
   "metadata": {},
   "source": [
    "# Ethics & Privacy"
   ]
  },
  {
   "cell_type": "markdown",
   "metadata": {},
   "source": [
    "In our project, there are potential unintended consequences that could arise from our analysis. By focusing on specific measurable factors, we may inadvertently oversimplify the complexity of sleep behaviors among students. For instance, our findings could reinforce stereotypes or generalizations about students with irregular sleep schedules without fully considering underlying causes like socioeconomic pressures, mental health challenges, or cultural factors. Such oversights might lead to conclusions that are not inclusive or effective for all students.\n",
    "\n",
    "Our datasets may exclude or mislabel students who have underlying health conditions such as insomnia, mental health issues, or chronic illnesses. These populations might be underrepresented, and their data could be disproportionately treated as outliers and removed before the datasets were made accessible to us. Additionally, we acknowledge that the anonymized nature of our datasets limits our ability to confirm that the data truly represents college students across the US, which could introduce regional or demographic biases.\n",
    "\n",
    "Socioeconomic factors present another challenge. For example, students from lower-income backgrounds may have formed sleep habits during high school while managing jobs or other responsibilities, contributing to what might be labeled as \"unhealthy\" sleep schedules. Our project does not directly measure these socioeconomic factors, and we acknowledge that this could limit the depth of our analysis. Similarly, interpersonal relationships and cultural practices, such as international students managing time zone differences to stay connected with family, could also influence sleep patterns in ways not captured in our surveys.\n",
    "\n",
    "Moreover, we do not explicitly address how habits may have changed post-pandemic (e.g., altered sleep patterns due to remote learning or shifting routines) or the impact of environmental factors such as shared living spaces, loud roommates, or limited access to comfortable sleeping arrangements. These factors could significantly influence sleep quality but are not accounted for in our analysis.\n",
    "\n",
    "To mitigate privacy concerns, our datasets anonymize participants by assigning numbers to each observation. While this ensures no personal or identifying information is used, it also limits our ability to contextualize the data fully. Participants' self-reported survey responses may also contain inaccuracies due to social desirability bias or hesitancy to disclose substance or alcohol use, potentially skewing our results.\n",
    "\n",
    "To mitigate these biases and unintended consequences, we will:\n",
    "1. Acknowledge the limitations of our data and analysis, particularly the absence of socioeconomic and environmental context.    \n",
    "2. Avoid broad generalizations, presenting findings as trends specific to the datasets.\n",
    "3. Recommend future research to explore underrepresented populations and additional variables like socioeconomic status, mental health, and environmental factors.\n",
    "\n",
    "By critically reflecting on these aspects, we aim to ensure our study is ethical, inclusive, and aware of its limitations."
   ]
  },
  {
   "cell_type": "markdown",
   "metadata": {},
   "source": [
    "# Team Expectations "
   ]
  },
  {
   "cell_type": "markdown",
   "metadata": {},
   "source": [
    "* We will agree on clear task assignments for each project phase, with set deadlines that all members commit to meeting. Each member will be responsible for updating the group on their progress and any roadblocks encountered.\n",
    "* We are committed to fostering collaboration by encouraging participation from each team member, ensuring that everyone feels included by encouraging each other to participate and valuing everyone’s ideas.\n",
    "* We will provide honest and constructive feedback on our collaborative work, supporting one another in producing high-quality outcomes.\n",
    "* We agree to take turns, as needed, in leadership responsibilities such as planning meetings, setting tasks, sending reminders, and submitting assignments.\n",
    "* If a member faces difficulty meeting a deadline, they will inform the group promptly. The team will help redistribute tasks or support the member, ensuring project progress and shared responsibility.\n",
    "* If any conflicts come up, we are committed to handling them respectfully. Team members not involved will help mediate, and those involved will work together to solve the issue and keep the group’s harmony.\n",
    "* Before finalizing any submission, each member will review both their contributions and those of others, providing constructive feedback to ensure high-quality work across all project sections."
   ]
  },
  {
   "cell_type": "markdown",
   "metadata": {},
   "source": [
    "# Project Timeline Proposal"
   ]
  },
  {
   "cell_type": "markdown",
   "metadata": {},
   "source": [
    "| Meeting Date | Meeting Time | Completed Before Meeting                                    | Discuss at Meeting                                                                                          |\n",
    "|--------------|--------------|------------------------------------------------------------|-------------------------------------------------------------------------------------------------------------|\n",
    "| 10/02        | 11 AM        | Initial brainstorming of potential research questions      | Discuss and finalize five potential project ideas; determine preferred communication methods and project goals |\n",
    "| 10/07        | 11 AM        | Conduct initial background research on each idea; review previous years’ projects | Discuss insights from previous projects; identify relevant data sources; narrow down to 2-3 viable research questions |\n",
    "| 10/14        | 11 AM        | Review background research on shortlisted questions        | Finalize a research question, select a previous project for the project review assignment                   |\n",
    "| 10/21        | 11 AM        | Complete project review notes; submit assignment           | Refine research question: \"Which measurable sleep and lifestyle factors are most strongly associated with healthy sleep schedules among college students in the US?\" based on course content; conduct additional research; divide responsibilities for project proposal assignment |\n",
    "| 10/29        | 6 PM         | Gather notes for project proposal                          | Collaborate on finalizing the project proposal draft; assign final touches for submission                   |\n",
    "| 10/31        | 6 PM         | Prepare survey questions individually                      | Create a survey to gather data from college students (ages 18-25) in the US; finalize survey questions and begin distributing online |\n",
    "| 11/04        | 11 AM        | Review relevant datasets; gather preliminary data; distribute survey link | Prepare for data checkpoint; discuss potential challenges in data collection and cleaning; finalize selected dataset for Checkpoint 1 |\n",
    "| 11/11        | 3 PM         | Continue distributing survey link; each team member reviewed relevant datasets | Finalize the datasets for this study; ensure all datasets align with the research question                  |\n",
    "| 11/12        | 1 PM         | Work on Checkpoint 1 submission; review survey progress (45 responses so far) | Complete final touches and submit Checkpoint 1; outline initial steps for exploratory data analysis (EDA); assign tasks for data wrangling and cleaning |\n",
    "| 11/18        | 11 AM        | Initial data cleaning completed; survey distribution ongoing | Review EDA progress; discuss any issues with data visualization and analysis; make adjustments as necessary for Checkpoint 2 |\n",
    "| 11/25        | 11 AM        | Complete EDA Checkpoint                                    | Submit EDA for Checkpoint 2; outline steps for further analysis and insights gathering; assign tasks for drafting results and discussion sections |\n",
    "| 12/02        | 11 AM        | Begin drafting results, discussion, and conclusion; survey distribution near completion | Review findings; finalize insights and visualizations; organize the draft for final project submission       |\n",
    "| 12/05        | 7 PM         | Finalize survey data collection and analysis               | Ensure all survey responses are integrated into analysis and results                                        |\n",
    "| 12/09        | 11 AM        | Complete project                                           | Submit final project and complete any required group surveys or feedback forms                              |"
   ]
  }
 ],
 "metadata": {
  "kernelspec": {
   "display_name": "Python 3",
   "language": "python",
   "name": "python3"
  },
  "language_info": {
   "codemirror_mode": {
    "name": "ipython",
    "version": 3
   },
   "file_extension": ".py",
   "mimetype": "text/x-python",
   "name": "python",
   "nbconvert_exporter": "python",
   "pygments_lexer": "ipython3",
   "version": "3.9.6"
  }
 },
 "nbformat": 4,
 "nbformat_minor": 2
}
